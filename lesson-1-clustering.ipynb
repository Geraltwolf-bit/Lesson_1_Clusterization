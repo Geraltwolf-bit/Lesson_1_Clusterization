{
 "cells": [
  {
   "cell_type": "code",
   "execution_count": 1,
   "id": "7b851497",
   "metadata": {
    "_cell_guid": "b1076dfc-b9ad-4769-8c92-a6c4dae69d19",
    "_uuid": "8f2839f25d086af736a60e9eeb907d3b93b6e0e5",
    "execution": {
     "iopub.execute_input": "2025-08-11T13:19:03.679573Z",
     "iopub.status.busy": "2025-08-11T13:19:03.679095Z",
     "iopub.status.idle": "2025-08-11T13:19:05.746506Z",
     "shell.execute_reply": "2025-08-11T13:19:05.745288Z"
    },
    "papermill": {
     "duration": 2.075566,
     "end_time": "2025-08-11T13:19:05.748674",
     "exception": false,
     "start_time": "2025-08-11T13:19:03.673108",
     "status": "completed"
    },
    "tags": []
   },
   "outputs": [],
   "source": [
    "# This Python 3 environment comes with many helpful analytics libraries installed\n",
    "# It is defined by the kaggle/python Docker image: https://github.com/kaggle/docker-python\n",
    "# For example, here's several helpful packages to load\n",
    "\n",
    "import numpy as np # linear algebra\n",
    "import pandas as pd # data processing, CSV file I/O (e.g. pd.read_csv)\n",
    "\n",
    "# Input data files are available in the read-only \"../input/\" directory\n",
    "# For example, running this (by clicking run or pressing Shift+Enter) will list all files under the input directory\n",
    "\n",
    "import os\n",
    "for dirname, _, filenames in os.walk('/kaggle/input'):\n",
    "    for filename in filenames:\n",
    "        print(os.path.join(dirname, filename))\n",
    "\n",
    "# You can write up to 20GB to the current directory (/kaggle/working/) that gets preserved as output when you create a version using \"Save & Run All\" \n",
    "# You can also write temporary files to /kaggle/temp/, but they won't be saved outside of the current session"
   ]
  },
  {
   "cell_type": "code",
   "execution_count": 2,
   "id": "92107dbd",
   "metadata": {
    "execution": {
     "iopub.execute_input": "2025-08-11T13:19:05.757842Z",
     "iopub.status.busy": "2025-08-11T13:19:05.756744Z",
     "iopub.status.idle": "2025-08-11T13:19:05.792598Z",
     "shell.execute_reply": "2025-08-11T13:19:05.791374Z"
    },
    "papermill": {
     "duration": 0.042008,
     "end_time": "2025-08-11T13:19:05.794564",
     "exception": false,
     "start_time": "2025-08-11T13:19:05.752556",
     "status": "completed"
    },
    "tags": []
   },
   "outputs": [
    {
     "data": {
      "text/html": [
       "<div>\n",
       "<style scoped>\n",
       "    .dataframe tbody tr th:only-of-type {\n",
       "        vertical-align: middle;\n",
       "    }\n",
       "\n",
       "    .dataframe tbody tr th {\n",
       "        vertical-align: top;\n",
       "    }\n",
       "\n",
       "    .dataframe thead th {\n",
       "        text-align: right;\n",
       "    }\n",
       "</style>\n",
       "<table border=\"1\" class=\"dataframe\">\n",
       "  <thead>\n",
       "    <tr style=\"text-align: right;\">\n",
       "      <th></th>\n",
       "      <th>user_id</th>\n",
       "      <th>banner</th>\n",
       "      <th>displays</th>\n",
       "      <th>clicks</th>\n",
       "      <th>channel</th>\n",
       "    </tr>\n",
       "  </thead>\n",
       "  <tbody>\n",
       "    <tr>\n",
       "      <th>0</th>\n",
       "      <td>1</td>\n",
       "      <td>101</td>\n",
       "      <td>10</td>\n",
       "      <td>4</td>\n",
       "      <td>web</td>\n",
       "    </tr>\n",
       "    <tr>\n",
       "      <th>1</th>\n",
       "      <td>2</td>\n",
       "      <td>102</td>\n",
       "      <td>20</td>\n",
       "      <td>0</td>\n",
       "      <td>mobile</td>\n",
       "    </tr>\n",
       "    <tr>\n",
       "      <th>2</th>\n",
       "      <td>3</td>\n",
       "      <td>101</td>\n",
       "      <td>3</td>\n",
       "      <td>3</td>\n",
       "      <td>web</td>\n",
       "    </tr>\n",
       "    <tr>\n",
       "      <th>3</th>\n",
       "      <td>4</td>\n",
       "      <td>103</td>\n",
       "      <td>5</td>\n",
       "      <td>1</td>\n",
       "      <td>web</td>\n",
       "    </tr>\n",
       "    <tr>\n",
       "      <th>4</th>\n",
       "      <td>5</td>\n",
       "      <td>102</td>\n",
       "      <td>12</td>\n",
       "      <td>0</td>\n",
       "      <td>mobile</td>\n",
       "    </tr>\n",
       "    <tr>\n",
       "      <th>5</th>\n",
       "      <td>6</td>\n",
       "      <td>101</td>\n",
       "      <td>23</td>\n",
       "      <td>7</td>\n",
       "      <td>web</td>\n",
       "    </tr>\n",
       "    <tr>\n",
       "      <th>6</th>\n",
       "      <td>7</td>\n",
       "      <td>103</td>\n",
       "      <td>6</td>\n",
       "      <td>4</td>\n",
       "      <td>mobile</td>\n",
       "    </tr>\n",
       "    <tr>\n",
       "      <th>7</th>\n",
       "      <td>8</td>\n",
       "      <td>104</td>\n",
       "      <td>9</td>\n",
       "      <td>6</td>\n",
       "      <td>web</td>\n",
       "    </tr>\n",
       "    <tr>\n",
       "      <th>8</th>\n",
       "      <td>9</td>\n",
       "      <td>102</td>\n",
       "      <td>12</td>\n",
       "      <td>8</td>\n",
       "      <td>mobile</td>\n",
       "    </tr>\n",
       "    <tr>\n",
       "      <th>9</th>\n",
       "      <td>10</td>\n",
       "      <td>101</td>\n",
       "      <td>20</td>\n",
       "      <td>10</td>\n",
       "      <td>web</td>\n",
       "    </tr>\n",
       "  </tbody>\n",
       "</table>\n",
       "</div>"
      ],
      "text/plain": [
       "   user_id  banner  displays  clicks channel\n",
       "0        1     101        10       4     web\n",
       "1        2     102        20       0  mobile\n",
       "2        3     101         3       3     web\n",
       "3        4     103         5       1     web\n",
       "4        5     102        12       0  mobile\n",
       "5        6     101        23       7     web\n",
       "6        7     103         6       4  mobile\n",
       "7        8     104         9       6     web\n",
       "8        9     102        12       8  mobile\n",
       "9       10     101        20      10     web"
      ]
     },
     "execution_count": 2,
     "metadata": {},
     "output_type": "execute_result"
    }
   ],
   "source": [
    "df = pd.DataFrame({\n",
    "    'user_id':   [1, 2, 3, 4, 5, 6, 7, 8, 9, 10],\n",
    "    'banner':     [101, 102, 101, 103, 102, 101, 103, 104, 102, 101],\n",
    "    'displays': [10, 20, 3, 5, 12, 23, 6, 9, 12, 20],\n",
    "    'clicks': [4, 0, 3, 1, 0, 7, 4, 6, 8, 10],\n",
    "    'channel': ['web', 'mobile', 'web', 'web', 'mobile', 'web', 'mobile', 'web', 'mobile', 'web']\n",
    "})\n",
    "df"
   ]
  },
  {
   "cell_type": "markdown",
   "id": "00b6b889",
   "metadata": {
    "papermill": {
     "duration": 0.003347,
     "end_time": "2025-08-11T13:19:05.801402",
     "exception": false,
     "start_time": "2025-08-11T13:19:05.798055",
     "status": "completed"
    },
    "tags": []
   },
   "source": [
    "Clusterize users\n",
    "\n",
    "Clustering begins with visualizing the data with a scatterplot. A scatterplot shows dense regions with points close to each other. These dense points are clusters.\n",
    "Next step is to apply one of the clustering methods to capture these clusters.\n",
    "With regard to my dataset, I'm going to clusterize users based on their engagement, which will show how many displays they had and how many clicks they did."
   ]
  },
  {
   "cell_type": "code",
   "execution_count": 3,
   "id": "6b9ce87d",
   "metadata": {
    "execution": {
     "iopub.execute_input": "2025-08-11T13:19:05.809799Z",
     "iopub.status.busy": "2025-08-11T13:19:05.809428Z",
     "iopub.status.idle": "2025-08-11T13:19:06.324775Z",
     "shell.execute_reply": "2025-08-11T13:19:06.323661Z"
    },
    "papermill": {
     "duration": 0.521581,
     "end_time": "2025-08-11T13:19:06.326404",
     "exception": false,
     "start_time": "2025-08-11T13:19:05.804823",
     "status": "completed"
    },
    "tags": []
   },
   "outputs": [
    {
     "data": {
      "image/png": "[encoded data removed]",
      "text/plain": [
       "<Figure size 800x600 with 1 Axes>"
      ]
     },
     "metadata": {},
     "output_type": "display_data"
    }
   ],
   "source": [
    "import matplotlib.pyplot as plt\n",
    "plt.figure(figsize = (8, 6))\n",
    "plt.scatter(x = df['displays'], y = df['clicks'], c = 'blue', alpha = 0.6)\n",
    "plt.xlabel('Number of displays')\n",
    "plt.ylabel('Number of clicks')\n",
    "plt.title('Scatterplot to clusterize users based on theri engagement')\n",
    "plt.grid(True)\n",
    "plt.tight_layout()"
   ]
  },
  {
   "cell_type": "markdown",
   "id": "05a67d24",
   "metadata": {
    "papermill": {
     "duration": 0.003386,
     "end_time": "2025-08-11T13:19:06.333532",
     "exception": false,
     "start_time": "2025-08-11T13:19:06.330146",
     "status": "completed"
    },
    "tags": []
   },
   "source": [
    "On this scatterplot, I see three clusters:\n",
    "1. Two points at the bottom (No clicks = Not engaged, especially given high number of displays).\n",
    "1. Five points on the left side (Up to 6 clicks = Moderately engaged).\n",
    "3. Three points at the top (Up to 10 clicks = Highly engaged).\n",
    "\n",
    "But is this so? A clustering algorithm will help us figure things out."
   ]
  },
  {
   "cell_type": "code",
   "execution_count": 4,
   "id": "f72ae1ee",
   "metadata": {
    "execution": {
     "iopub.execute_input": "2025-08-11T13:19:06.342227Z",
     "iopub.status.busy": "2025-08-11T13:19:06.341860Z",
     "iopub.status.idle": "2025-08-11T13:19:07.926908Z",
     "shell.execute_reply": "2025-08-11T13:19:07.925813Z"
    },
    "papermill": {
     "duration": 1.591941,
     "end_time": "2025-08-11T13:19:07.929059",
     "exception": false,
     "start_time": "2025-08-11T13:19:06.337118",
     "status": "completed"
    },
    "tags": []
   },
   "outputs": [],
   "source": [
    "#First, I scale the data:\n",
    "from sklearn.preprocessing import StandardScaler\n",
    "scaler = StandardScaler()\n",
    "df_scaled = scaler.fit_transform(df[['clicks', 'displays']])"
   ]
  },
  {
   "cell_type": "code",
   "execution_count": 5,
   "id": "3a2db2c0",
   "metadata": {
    "execution": {
     "iopub.execute_input": "2025-08-11T13:19:07.941123Z",
     "iopub.status.busy": "2025-08-11T13:19:07.940641Z",
     "iopub.status.idle": "2025-08-11T13:19:08.753594Z",
     "shell.execute_reply": "2025-08-11T13:19:08.750960Z"
    },
    "papermill": {
     "duration": 0.820852,
     "end_time": "2025-08-11T13:19:08.755562",
     "exception": false,
     "start_time": "2025-08-11T13:19:07.934710",
     "status": "completed"
    },
    "tags": []
   },
   "outputs": [
    {
     "name": "stderr",
     "output_type": "stream",
     "text": [
      "/usr/local/lib/python3.11/dist-packages/sklearn/cluster/_kmeans.py:870: FutureWarning: The default value of `n_init` will change from 10 to 'auto' in 1.4. Set the value of `n_init` explicitly to suppress the warning\n",
      "  warnings.warn(\n"
     ]
    }
   ],
   "source": [
    "#I apply KMeans:\n",
    "from sklearn.cluster import KMeans\n",
    "kmeans = KMeans(n_clusters = 3)\n",
    "df['cluster'] = kmeans.fit_predict(df_scaled)"
   ]
  },
  {
   "cell_type": "code",
   "execution_count": 6,
   "id": "610e7f48",
   "metadata": {
    "execution": {
     "iopub.execute_input": "2025-08-11T13:19:08.767594Z",
     "iopub.status.busy": "2025-08-11T13:19:08.767198Z",
     "iopub.status.idle": "2025-08-11T13:19:08.779746Z",
     "shell.execute_reply": "2025-08-11T13:19:08.778636Z"
    },
    "papermill": {
     "duration": 0.020758,
     "end_time": "2025-08-11T13:19:08.781758",
     "exception": false,
     "start_time": "2025-08-11T13:19:08.761000",
     "status": "completed"
    },
    "tags": []
   },
   "outputs": [
    {
     "data": {
      "text/html": [
       "<div>\n",
       "<style scoped>\n",
       "    .dataframe tbody tr th:only-of-type {\n",
       "        vertical-align: middle;\n",
       "    }\n",
       "\n",
       "    .dataframe tbody tr th {\n",
       "        vertical-align: top;\n",
       "    }\n",
       "\n",
       "    .dataframe thead th {\n",
       "        text-align: right;\n",
       "    }\n",
       "</style>\n",
       "<table border=\"1\" class=\"dataframe\">\n",
       "  <thead>\n",
       "    <tr style=\"text-align: right;\">\n",
       "      <th></th>\n",
       "      <th>user_id</th>\n",
       "      <th>banner</th>\n",
       "      <th>displays</th>\n",
       "      <th>clicks</th>\n",
       "      <th>channel</th>\n",
       "      <th>cluster</th>\n",
       "    </tr>\n",
       "  </thead>\n",
       "  <tbody>\n",
       "    <tr>\n",
       "      <th>0</th>\n",
       "      <td>1</td>\n",
       "      <td>101</td>\n",
       "      <td>10</td>\n",
       "      <td>4</td>\n",
       "      <td>web</td>\n",
       "      <td>0</td>\n",
       "    </tr>\n",
       "    <tr>\n",
       "      <th>1</th>\n",
       "      <td>2</td>\n",
       "      <td>102</td>\n",
       "      <td>20</td>\n",
       "      <td>0</td>\n",
       "      <td>mobile</td>\n",
       "      <td>2</td>\n",
       "    </tr>\n",
       "    <tr>\n",
       "      <th>2</th>\n",
       "      <td>3</td>\n",
       "      <td>101</td>\n",
       "      <td>3</td>\n",
       "      <td>3</td>\n",
       "      <td>web</td>\n",
       "      <td>0</td>\n",
       "    </tr>\n",
       "    <tr>\n",
       "      <th>3</th>\n",
       "      <td>4</td>\n",
       "      <td>103</td>\n",
       "      <td>5</td>\n",
       "      <td>1</td>\n",
       "      <td>web</td>\n",
       "      <td>0</td>\n",
       "    </tr>\n",
       "    <tr>\n",
       "      <th>4</th>\n",
       "      <td>5</td>\n",
       "      <td>102</td>\n",
       "      <td>12</td>\n",
       "      <td>0</td>\n",
       "      <td>mobile</td>\n",
       "      <td>2</td>\n",
       "    </tr>\n",
       "    <tr>\n",
       "      <th>5</th>\n",
       "      <td>6</td>\n",
       "      <td>101</td>\n",
       "      <td>23</td>\n",
       "      <td>7</td>\n",
       "      <td>web</td>\n",
       "      <td>1</td>\n",
       "    </tr>\n",
       "    <tr>\n",
       "      <th>6</th>\n",
       "      <td>7</td>\n",
       "      <td>103</td>\n",
       "      <td>6</td>\n",
       "      <td>4</td>\n",
       "      <td>mobile</td>\n",
       "      <td>0</td>\n",
       "    </tr>\n",
       "    <tr>\n",
       "      <th>7</th>\n",
       "      <td>8</td>\n",
       "      <td>104</td>\n",
       "      <td>9</td>\n",
       "      <td>6</td>\n",
       "      <td>web</td>\n",
       "      <td>0</td>\n",
       "    </tr>\n",
       "    <tr>\n",
       "      <th>8</th>\n",
       "      <td>9</td>\n",
       "      <td>102</td>\n",
       "      <td>12</td>\n",
       "      <td>8</td>\n",
       "      <td>mobile</td>\n",
       "      <td>1</td>\n",
       "    </tr>\n",
       "    <tr>\n",
       "      <th>9</th>\n",
       "      <td>10</td>\n",
       "      <td>101</td>\n",
       "      <td>20</td>\n",
       "      <td>10</td>\n",
       "      <td>web</td>\n",
       "      <td>1</td>\n",
       "    </tr>\n",
       "  </tbody>\n",
       "</table>\n",
       "</div>"
      ],
      "text/plain": [
       "   user_id  banner  displays  clicks channel  cluster\n",
       "0        1     101        10       4     web        0\n",
       "1        2     102        20       0  mobile        2\n",
       "2        3     101         3       3     web        0\n",
       "3        4     103         5       1     web        0\n",
       "4        5     102        12       0  mobile        2\n",
       "5        6     101        23       7     web        1\n",
       "6        7     103         6       4  mobile        0\n",
       "7        8     104         9       6     web        0\n",
       "8        9     102        12       8  mobile        1\n",
       "9       10     101        20      10     web        1"
      ]
     },
     "execution_count": 6,
     "metadata": {},
     "output_type": "execute_result"
    }
   ],
   "source": [
    "#Let's make sure our dataset has the new column \"cluster\":\n",
    "df"
   ]
  },
  {
   "cell_type": "code",
   "execution_count": 7,
   "id": "4494a3f8",
   "metadata": {
    "execution": {
     "iopub.execute_input": "2025-08-11T13:19:08.792225Z",
     "iopub.status.busy": "2025-08-11T13:19:08.791258Z",
     "iopub.status.idle": "2025-08-11T13:19:09.090314Z",
     "shell.execute_reply": "2025-08-11T13:19:09.088960Z"
    },
    "papermill": {
     "duration": 0.305975,
     "end_time": "2025-08-11T13:19:09.092116",
     "exception": false,
     "start_time": "2025-08-11T13:19:08.786141",
     "status": "completed"
    },
    "tags": []
   },
   "outputs": [
    {
     "data": {
      "image/png": "[encoded data removed]",
      "text/plain": [
       "<Figure size 800x600 with 1 Axes>"
      ]
     },
     "metadata": {},
     "output_type": "display_data"
    }
   ],
   "source": [
    "#Now let's visualize our clusters:\n",
    "\n",
    "plt.figure(figsize = (8, 6))\n",
    "plt.scatter(x = df['displays'], y = df['clicks'], c = df['cluster'])\n",
    "plt.xlabel('Number of displays')\n",
    "plt.ylabel('Number of clicks')\n",
    "plt.title('Scatterplot to clusterize users based on theri engagement')\n",
    "plt.grid(True)\n",
    "\n",
    "for cluster_num in range(3):\n",
    "    cluster_data = df[df['cluster'] == cluster_num]\n",
    "    x_center = cluster_data['displays'].mean()\n",
    "    y_center = cluster_data['clicks'].mean()\n",
    "    plt.text(x_center, y_center, str(cluster_num))\n",
    "\n",
    "plt.tight_layout()"
   ]
  },
  {
   "cell_type": "markdown",
   "id": "0684c9a4",
   "metadata": {
    "papermill": {
     "duration": 0.004402,
     "end_time": "2025-08-11T13:19:09.101599",
     "exception": false,
     "start_time": "2025-08-11T13:19:09.097197",
     "status": "completed"
    },
    "tags": []
   },
   "source": [
    "It turned out I was right, and KMeans indeed discovered three clusters exactly how I described them. Let's view this inforation as a dataset:"
   ]
  },
  {
   "cell_type": "code",
   "execution_count": 8,
   "id": "fbc09d2b",
   "metadata": {
    "execution": {
     "iopub.execute_input": "2025-08-11T13:19:09.113902Z",
     "iopub.status.busy": "2025-08-11T13:19:09.113503Z",
     "iopub.status.idle": "2025-08-11T13:19:09.135212Z",
     "shell.execute_reply": "2025-08-11T13:19:09.134041Z"
    },
    "papermill": {
     "duration": 0.029522,
     "end_time": "2025-08-11T13:19:09.136769",
     "exception": false,
     "start_time": "2025-08-11T13:19:09.107247",
     "status": "completed"
    },
    "tags": []
   },
   "outputs": [
    {
     "data": {
      "text/html": [
       "<div>\n",
       "<style scoped>\n",
       "    .dataframe tbody tr th:only-of-type {\n",
       "        vertical-align: middle;\n",
       "    }\n",
       "\n",
       "    .dataframe tbody tr th {\n",
       "        vertical-align: top;\n",
       "    }\n",
       "\n",
       "    .dataframe thead th {\n",
       "        text-align: right;\n",
       "    }\n",
       "</style>\n",
       "<table border=\"1\" class=\"dataframe\">\n",
       "  <thead>\n",
       "    <tr style=\"text-align: right;\">\n",
       "      <th></th>\n",
       "      <th>displays</th>\n",
       "      <th>clicks</th>\n",
       "    </tr>\n",
       "    <tr>\n",
       "      <th>cluster</th>\n",
       "      <th></th>\n",
       "      <th></th>\n",
       "    </tr>\n",
       "  </thead>\n",
       "  <tbody>\n",
       "    <tr>\n",
       "      <th>1</th>\n",
       "      <td>55</td>\n",
       "      <td>25</td>\n",
       "    </tr>\n",
       "    <tr>\n",
       "      <th>0</th>\n",
       "      <td>33</td>\n",
       "      <td>18</td>\n",
       "    </tr>\n",
       "    <tr>\n",
       "      <th>2</th>\n",
       "      <td>32</td>\n",
       "      <td>0</td>\n",
       "    </tr>\n",
       "  </tbody>\n",
       "</table>\n",
       "</div>"
      ],
      "text/plain": [
       "         displays  clicks\n",
       "cluster                  \n",
       "1              55      25\n",
       "0              33      18\n",
       "2              32       0"
      ]
     },
     "execution_count": 8,
     "metadata": {},
     "output_type": "execute_result"
    }
   ],
   "source": [
    "df.groupby('cluster')[['displays', 'clicks']].sum().sort_values(by = 'clicks', ascending = False)"
   ]
  },
  {
   "cell_type": "markdown",
   "id": "99d9f5f7",
   "metadata": {
    "papermill": {
     "duration": 0.004485,
     "end_time": "2025-08-11T13:19:09.147185",
     "exception": false,
     "start_time": "2025-08-11T13:19:09.142700",
     "status": "completed"
    },
    "tags": []
   },
   "source": [
    "Now, I'm going to present the results of clusterization in a readable format."
   ]
  },
  {
   "cell_type": "code",
   "execution_count": 9,
   "id": "f3297c07",
   "metadata": {
    "execution": {
     "iopub.execute_input": "2025-08-11T13:19:09.158315Z",
     "iopub.status.busy": "2025-08-11T13:19:09.157896Z",
     "iopub.status.idle": "2025-08-11T13:19:09.166998Z",
     "shell.execute_reply": "2025-08-11T13:19:09.165898Z"
    },
    "papermill": {
     "duration": 0.016897,
     "end_time": "2025-08-11T13:19:09.168710",
     "exception": false,
     "start_time": "2025-08-11T13:19:09.151813",
     "status": "completed"
    },
    "tags": []
   },
   "outputs": [
    {
     "data": {
      "text/plain": [
       "{0: [1, 3, 4, 7, 8], 1: [6, 9, 10], 2: [2, 5]}"
      ]
     },
     "execution_count": 9,
     "metadata": {},
     "output_type": "execute_result"
    }
   ],
   "source": [
    "#create a dict with cluster_labels:\n",
    "labels = {0: 'Highly engaged', 1: 'Moderately engaged', 2: 'Unengaged'}\n",
    "\n",
    "#create a dict with a cluster and empty list to keep users_id's:\n",
    "clusters = {0: [], 1: [], 2: []}\n",
    "\n",
    "#loop through each row in df and fill the empty list with user_id's:\n",
    "for i in range(len(df)):\n",
    "    num_cluster = df['cluster'][i]\n",
    "    user_id = df['user_id'][i]\n",
    "    clusters[num_cluster].append(user_id)\n",
    "\n",
    "#control that clusters is filled correctly:\n",
    "clusters"
   ]
  },
  {
   "cell_type": "markdown",
   "id": "edfd60d0",
   "metadata": {
    "papermill": {
     "duration": 0.004578,
     "end_time": "2025-08-11T13:19:09.178469",
     "exception": false,
     "start_time": "2025-08-11T13:19:09.173891",
     "status": "completed"
    },
    "tags": []
   },
   "source": [
    "Clusters is filled correctly, let's present the clusterization in readable format:"
   ]
  },
  {
   "cell_type": "code",
   "execution_count": 10,
   "id": "eb9751f9",
   "metadata": {
    "execution": {
     "iopub.execute_input": "2025-08-11T13:19:09.189905Z",
     "iopub.status.busy": "2025-08-11T13:19:09.189449Z",
     "iopub.status.idle": "2025-08-11T13:19:09.195993Z",
     "shell.execute_reply": "2025-08-11T13:19:09.194708Z"
    },
    "papermill": {
     "duration": 0.014381,
     "end_time": "2025-08-11T13:19:09.197694",
     "exception": false,
     "start_time": "2025-08-11T13:19:09.183313",
     "status": "completed"
    },
    "tags": []
   },
   "outputs": [
    {
     "name": "stdout",
     "output_type": "stream",
     "text": [
      "The cluster 0 contains 'Highly engaged' users with user_ids: [1, 3, 4, 7, 8]\n",
      "The cluster 1 contains 'Moderately engaged' users with user_ids: [6, 9, 10]\n",
      "The cluster 2 contains 'Unengaged' users with user_ids: [2, 5]\n"
     ]
    }
   ],
   "source": [
    "for num_cluster, user_id in clusters.items():\n",
    "    print(f\"The cluster {num_cluster} contains '{labels[num_cluster]}' users with user_ids: {user_id}\")"
   ]
  }
 ],
 "metadata": {
  "kaggle": {
   "accelerator": "none",
   "dataSources": [],
   "dockerImageVersionId": 31089,
   "isGpuEnabled": false,
   "isInternetEnabled": true,
   "language": "python",
   "sourceType": "notebook"
  },
  "kernelspec": {
   "display_name": "Python 3",
   "language": "python",
   "name": "python3"
  },
  "language_info": {
   "codemirror_mode": {
    "name": "ipython",
    "version": 3
   },
   "file_extension": ".py",
   "mimetype": "text/x-python",
   "name": "python",
   "nbconvert_exporter": "python",
   "pygments_lexer": "ipython3",
   "version": "3.11.13"
  },
  "papermill": {
   "default_parameters": {},
   "duration": 13.272183,
   "end_time": "2025-08-11T13:19:10.226494",
   "environment_variables": {},
   "exception": null,
   "input_path": "__notebook__.ipynb",
   "output_path": "__notebook__.ipynb",
   "parameters": {},
   "start_time": "2025-08-11T13:18:56.954311",
   "version": "2.6.0"
  }
 },
 "nbformat": 4,
 "nbformat_minor": 5
}
